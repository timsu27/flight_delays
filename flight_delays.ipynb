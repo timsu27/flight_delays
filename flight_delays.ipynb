{
 "cells": [
  {
   "cell_type": "code",
   "execution_count": 1,
   "id": "3e61fb24-d709-455a-807c-926c6d6d655b",
   "metadata": {},
   "outputs": [],
   "source": [
    "import pandas as pd"
   ]
  },
  {
   "cell_type": "code",
   "execution_count": 29,
   "id": "694eb0af-44c4-44f3-a878-3aa19b4d3cd3",
   "metadata": {},
   "outputs": [],
   "source": [
    "from pandas_profiling import ProfileReport"
   ]
  },
  {
   "cell_type": "code",
   "execution_count": 12,
   "id": "8aeddc05-5d68-4030-82ad-f19b1582c88b",
   "metadata": {},
   "outputs": [],
   "source": [
    "df = pd.read_csv(\"flight_delays_data.csv\", parse_dates=[8])"
   ]
  },
  {
   "cell_type": "code",
   "execution_count": 26,
   "id": "4a5eb91d-dc8b-47b6-ad0a-6bc05977b1c5",
   "metadata": {},
   "outputs": [],
   "source": [
    "df[\"flight_year\"] = df[\"flight_date\"].apply(lambda x: x.year)\n",
    "df[\"flight_month\"] = df[\"flight_date\"].apply(lambda x: x.month)\n",
    "df[\"flight_day\"] = df[\"flight_date\"].apply(lambda x: x.day)"
   ]
  },
  {
   "cell_type": "code",
   "execution_count": 35,
   "id": "cbda974c-4d6d-4694-980b-a805d05f4c17",
   "metadata": {},
   "outputs": [
    {
     "data": {
      "text/html": [
       "<div>\n",
       "<style scoped>\n",
       "    .dataframe tbody tr th:only-of-type {\n",
       "        vertical-align: middle;\n",
       "    }\n",
       "\n",
       "    .dataframe tbody tr th {\n",
       "        vertical-align: top;\n",
       "    }\n",
       "\n",
       "    .dataframe thead th {\n",
       "        text-align: right;\n",
       "    }\n",
       "</style>\n",
       "<table border=\"1\" class=\"dataframe\">\n",
       "  <thead>\n",
       "    <tr style=\"text-align: right;\">\n",
       "      <th></th>\n",
       "      <th>flight_id</th>\n",
       "      <th>flight_no</th>\n",
       "      <th>Week</th>\n",
       "      <th>Departure</th>\n",
       "      <th>Arrival</th>\n",
       "      <th>Airline</th>\n",
       "      <th>std_hour</th>\n",
       "      <th>delay_time</th>\n",
       "      <th>flight_date</th>\n",
       "      <th>is_claim</th>\n",
       "      <th>flight_year</th>\n",
       "      <th>flight_month</th>\n",
       "      <th>flight_day</th>\n",
       "    </tr>\n",
       "  </thead>\n",
       "  <tbody>\n",
       "    <tr>\n",
       "      <th>0</th>\n",
       "      <td>1582499</td>\n",
       "      <td>UO686</td>\n",
       "      <td>27</td>\n",
       "      <td>HKG</td>\n",
       "      <td>KIX</td>\n",
       "      <td>UO</td>\n",
       "      <td>10</td>\n",
       "      <td>0.4</td>\n",
       "      <td>2016-07-01</td>\n",
       "      <td>0</td>\n",
       "      <td>2016</td>\n",
       "      <td>7</td>\n",
       "      <td>1</td>\n",
       "    </tr>\n",
       "    <tr>\n",
       "      <th>1</th>\n",
       "      <td>1582501</td>\n",
       "      <td>CI7868</td>\n",
       "      <td>17</td>\n",
       "      <td>HKG</td>\n",
       "      <td>TNN</td>\n",
       "      <td>CI</td>\n",
       "      <td>11</td>\n",
       "      <td>0.5</td>\n",
       "      <td>2015-04-23</td>\n",
       "      <td>0</td>\n",
       "      <td>2015</td>\n",
       "      <td>4</td>\n",
       "      <td>23</td>\n",
       "    </tr>\n",
       "    <tr>\n",
       "      <th>2</th>\n",
       "      <td>1582504</td>\n",
       "      <td>PR301</td>\n",
       "      <td>14</td>\n",
       "      <td>HKG</td>\n",
       "      <td>MNL</td>\n",
       "      <td>PR</td>\n",
       "      <td>11</td>\n",
       "      <td>0.0</td>\n",
       "      <td>2014-04-08</td>\n",
       "      <td>0</td>\n",
       "      <td>2014</td>\n",
       "      <td>4</td>\n",
       "      <td>8</td>\n",
       "    </tr>\n",
       "    <tr>\n",
       "      <th>3</th>\n",
       "      <td>1582508</td>\n",
       "      <td>LD327</td>\n",
       "      <td>37</td>\n",
       "      <td>HKG</td>\n",
       "      <td>SIN</td>\n",
       "      <td>LD</td>\n",
       "      <td>3</td>\n",
       "      <td>0.1</td>\n",
       "      <td>2013-09-15</td>\n",
       "      <td>0</td>\n",
       "      <td>2013</td>\n",
       "      <td>9</td>\n",
       "      <td>15</td>\n",
       "    </tr>\n",
       "    <tr>\n",
       "      <th>4</th>\n",
       "      <td>1582509</td>\n",
       "      <td>KA5390</td>\n",
       "      <td>40</td>\n",
       "      <td>HKG</td>\n",
       "      <td>PEK</td>\n",
       "      <td>KA</td>\n",
       "      <td>9</td>\n",
       "      <td>0.5</td>\n",
       "      <td>2015-10-05</td>\n",
       "      <td>0</td>\n",
       "      <td>2015</td>\n",
       "      <td>10</td>\n",
       "      <td>5</td>\n",
       "    </tr>\n",
       "  </tbody>\n",
       "</table>\n",
       "</div>"
      ],
      "text/plain": [
       "   flight_id flight_no  Week Departure Arrival Airline  std_hour delay_time  \\\n",
       "0    1582499     UO686    27       HKG     KIX      UO        10        0.4   \n",
       "1    1582501    CI7868    17       HKG     TNN      CI        11        0.5   \n",
       "2    1582504     PR301    14       HKG     MNL      PR        11        0.0   \n",
       "3    1582508     LD327    37       HKG     SIN      LD         3        0.1   \n",
       "4    1582509    KA5390    40       HKG     PEK      KA         9        0.5   \n",
       "\n",
       "  flight_date  is_claim  flight_year  flight_month  flight_day  \n",
       "0  2016-07-01         0         2016             7           1  \n",
       "1  2015-04-23         0         2015             4          23  \n",
       "2  2014-04-08         0         2014             4           8  \n",
       "3  2013-09-15         0         2013             9          15  \n",
       "4  2015-10-05         0         2015            10           5  "
      ]
     },
     "execution_count": 35,
     "metadata": {},
     "output_type": "execute_result"
    }
   ],
   "source": [
    "df.head()"
   ]
  },
  {
   "cell_type": "code",
   "execution_count": 34,
   "id": "81291925-3785-4cef-a486-0952c200bad0",
   "metadata": {},
   "outputs": [
    {
     "name": "stdout",
     "output_type": "stream",
     "text": [
      "<class 'pandas.core.frame.DataFrame'>\n",
      "RangeIndex: 899114 entries, 0 to 899113\n",
      "Data columns (total 13 columns):\n",
      " #   Column        Non-Null Count   Dtype         \n",
      "---  ------        --------------   -----         \n",
      " 0   flight_id     899114 non-null  int64         \n",
      " 1   flight_no     899114 non-null  object        \n",
      " 2   Week          899114 non-null  int64         \n",
      " 3   Departure     899114 non-null  object        \n",
      " 4   Arrival       899114 non-null  object        \n",
      " 5   Airline       897400 non-null  object        \n",
      " 6   std_hour      899114 non-null  int64         \n",
      " 7   delay_time    899114 non-null  object        \n",
      " 8   flight_date   899114 non-null  datetime64[ns]\n",
      " 9   is_claim      899114 non-null  int64         \n",
      " 10  flight_year   899114 non-null  int64         \n",
      " 11  flight_month  899114 non-null  int64         \n",
      " 12  flight_day    899114 non-null  int64         \n",
      "dtypes: datetime64[ns](1), int64(7), object(5)\n",
      "memory usage: 89.2+ MB\n"
     ]
    }
   ],
   "source": [
    "df.info()"
   ]
  },
  {
   "cell_type": "code",
   "execution_count": 36,
   "id": "9c8b4779-21d7-4bdd-a0e3-c9a895bb4584",
   "metadata": {},
   "outputs": [
    {
     "data": {
      "text/plain": [
       "array(['0.4', '0.5', '0.0', '0.1', '0.2', '0.3', '0.9', '0.8', '-0.1',\n",
       "       '1.0', '0.7', '-0.2', '2.4', '0.6', '1.2', '1.4', '1.5',\n",
       "       'Cancelled', '-0.3', '2.3', '1.7', '3.7', '1.1', '3.8', '1.8',\n",
       "       '5.4', '1.3', '-0.4', '2.2', '2.6', '16.2', '1.9', '1.6', '5.1',\n",
       "       '4.8', '-0.7', '3.2', '2.1', '-9.3', '-8.0', '15.8', '2.0', '-7.0',\n",
       "       '16.0', '3.9', '6.5', '3.5', '3.0', '-3.7', '5.3', '5.0', '2.7',\n",
       "       '3.4', '5.7', '4.0', '-0.5', '2.8', '3.3', '-7.2', '-9.9', '3.6',\n",
       "       '3.1', '7.5', '-8.2', '2.9', '2.5', '8.6', '6.8', '5.9', '4.7',\n",
       "       '-13.9', '5.8', '12.8', '-8.1', '11.0', '-12.4', '10.6', '22.7',\n",
       "       '18.3', '9.1', '-7.6', '7.8', '-6.6', '15.9', '16.1', '4.1',\n",
       "       '12.0', '4.3', '4.4', '8.9', '6.0', '6.9', '7.9', '4.5', '-7.9',\n",
       "       '17.0', '7.4', '7.1', '5.5', '6.4', '-7.7', '12.2', '-6.2', '11.9',\n",
       "       '23.9', '4.9', '-10.8', '4.6', '9.8', '9.7', '16.8', '-1.6',\n",
       "       '-12.7', '6.1', '8.7', '6.2', '12.6', '9.9', '17.6', '-7.8',\n",
       "       '-7.3', '-7.5', '-1.0', '24.0', '4.2', '5.2', '6.6', '-7.1',\n",
       "       '16.4', '5.6', '-10.4', '-2.1', '-16.0', '17.1', '10.5', '-2.6',\n",
       "       '7.2', '9.4', '-10.2', '8.0', '7.0', '10.9', '9.5', '16.3', '16.9',\n",
       "       '-13.7', '9.6', '-0.8', '12.9', '8.3', '14.6', '-14.4', '8.8',\n",
       "       '7.7', '6.3', '-14.0', '9.3', '-6.7', '-11.5', '16.6', '9.0',\n",
       "       '-1.2', '8.1', '10.8', '-11.2', '14.5', '12.3', '8.4', '-12.0',\n",
       "       '7.3', '8.5', '-6.8', '12.4', '8.2', '21.2', '16.7', '-12.9',\n",
       "       '12.7', '-14.5', '11.8', '-9.8', '-6.9', '-11.9', '-3.3', '6.7',\n",
       "       '-8.5', '-9.1', '-6.4', '-14.6', '-11.0', '-3.1', '11.1', '-12.1',\n",
       "       '-4.9', '7.6', '-7.4', '-9.5', '20.9', '-6.3', '-13.1', '-3.2',\n",
       "       '10.0', '16.5', '13.4', '-10.0', '-5.4', '-10.6', '-13.0', '-5.8',\n",
       "       '-1.3', '23.7', '11.7', '-3.0', '-1.1', '-4.4', '-10.9', '13.9',\n",
       "       '-11.6', '10.7', '-0.6', '-5.3', '-9.2', '-9.6', '-15.9', '11.6',\n",
       "       '24.1', '-8.3', '-13.2', '24.3', '17.4', '14.8', '15.6', '23.8',\n",
       "       '10.3', '14.3', '-5.6', '-10.5', '-4.3', '-13.4', '-5.0', '-11.3',\n",
       "       '-10.7', '-5.7', '-10.3', '-2.7', '13.2', '12.1', '-5.5', '17.3',\n",
       "       '15.2', '-2.4', '10.1', '-6.5', '10.4', '14.1', '-0.9', '-4.1',\n",
       "       '-6.1', '12.5', '-1.4', '18.9', '18.5', '-2.9', '-2.2', '10.2',\n",
       "       '9.2', '-15.5', '-11.1', '-1.8', '-2.5', '-10.1', '-13.3', '-12.5',\n",
       "       '15.1', '-13.6', '19.8', '-14.2', '22.0', '-11.4', '-12.2', '13.8',\n",
       "       '19.9', '-3.4', '11.3', '-4.7', '-4.2', '-8.9', '-1.7', '-5.9',\n",
       "       '-1.5', '-16.9', '11.2', '17.2', '-16.2', '11.5', '-4.8', '13.1',\n",
       "       '-14.7', '-9.4', '-6.0', '11.4', '13.7', '-12.8', '-12.6', '14.9',\n",
       "       '-8.7', '18.7', '13.0', '-11.7', '-9.0', '-8.8', '-4.0', '21.9',\n",
       "       '14.0', '13.6', '-1.9', '-2.0', '-3.5', '15.4', '22.1', '-11.8',\n",
       "       '-9.7', '-14.9', '-13.8', '-15.2', '-4.6', '-5.1', '21.1', '-13.5',\n",
       "       '14.2', '17.5', '17.8', '-15.8', '-3.8', '20.2', '14.4', '21.4',\n",
       "       '18.6', '21.6', '22.6', '22.2', '19.3', '15.7', '-15.4', '21.5',\n",
       "       '-3.9', '20.5', '-16.3', '-16.4', '24.2', '-14.1', '-14.8', '19.0',\n",
       "       '21.3', '18.8', '21.8', '19.5', '-8.4', '18.4', '-12.3', '-2.8',\n",
       "       '13.5', '-14.3', '-3.6', '-19.4', '-5.2', '-15.0', '-16.5', '22.4',\n",
       "       '21.7', '20.1', '14.7', '-17.7', '23.0', '15.3', '13.3', '-17.5',\n",
       "       '-17.2', '23.5'], dtype=object)"
      ]
     },
     "execution_count": 36,
     "metadata": {},
     "output_type": "execute_result"
    }
   ],
   "source": [
    "df.delay_time"
   ]
  },
  {
   "cell_type": "code",
   "execution_count": null,
   "id": "f5ecd2ed-a824-479f-92bc-9589ea1933d2",
   "metadata": {},
   "outputs": [],
   "source": []
  }
 ],
 "metadata": {
  "kernelspec": {
   "display_name": "Python 3",
   "language": "python",
   "name": "python3"
  },
  "language_info": {
   "codemirror_mode": {
    "name": "ipython",
    "version": 3
   },
   "file_extension": ".py",
   "mimetype": "text/x-python",
   "name": "python",
   "nbconvert_exporter": "python",
   "pygments_lexer": "ipython3",
   "version": "3.8.8"
  }
 },
 "nbformat": 4,
 "nbformat_minor": 5
}
